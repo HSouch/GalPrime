{
 "cells": [
  {
   "cell_type": "code",
   "execution_count": 1,
   "metadata": {},
   "outputs": [],
   "source": [
    "import galprime\n",
    "import sys\n",
    "import os\n",
    "from astropy.io import fits\n",
    "from astropy.table import Table\n",
    "from numpy.random import normal\n",
    "import numpy as np\n",
    "\n",
    "from scipy.interpolate import interp1d\n",
    "\n",
    "from tqdm import tqdm\n",
    "from matplotlib import pyplot as plt\n",
    "\n",
    "import importlib\n",
    "importlib.reload(galprime)\n",
    "\n",
    "import dask.bag as db"
   ]
  },
  {
   "cell_type": "code",
   "execution_count": 2,
   "metadata": {},
   "outputs": [
    {
     "name": "stdout",
     "output_type": "stream",
     "text": [
      "Running GalPRIME, version 2.1.2\n",
      "-12 bins in total. Running GalPRIME on 1 bins total\n",
      "-Backgrounds were supplied: 50 in total.\n",
      "Working through 10 models for bin: [ 9.6 10.   0.1  0.3  0.   0.5] with 2 cores.\n"
     ]
    },
    {
     "name": "stderr",
     "output_type": "stream",
     "text": [
      "Bin: 0_0_0_:  30%|███       | 3/10 [00:09<00:18,  2.68s/it]"
     ]
    },
    {
     "name": "stdout",
     "output_type": "stream",
     "text": [
      "Function timed out."
     ]
    },
    {
     "name": "stderr",
     "output_type": "stream",
     "text": [
      "Bin: 0_0_0_:  40%|████      | 4/10 [00:23<00:38,  6.41s/it]"
     ]
    },
    {
     "name": "stdout",
     "output_type": "stream",
     "text": [
      "\n",
      "Function timed out."
     ]
    },
    {
     "name": "stderr",
     "output_type": "stream",
     "text": [
      "Bin: 0_0_0_:  50%|█████     | 5/10 [00:24<00:24,  4.81s/it]"
     ]
    },
    {
     "name": "stdout",
     "output_type": "stream",
     "text": [
      "\n"
     ]
    },
    {
     "name": "stderr",
     "output_type": "stream",
     "text": [
      "Bin: 0_0_0_:  70%|███████   | 7/10 [00:29<00:10,  3.46s/it]"
     ]
    },
    {
     "name": "stdout",
     "output_type": "stream",
     "text": [
      "Function timed out."
     ]
    },
    {
     "name": "stderr",
     "output_type": "stream",
     "text": [
      "Bin: 0_0_0_: 11it [00:43,  3.98s/it]                       "
     ]
    },
    {
     "name": "stdout",
     "output_type": "stream",
     "text": [
      "\n",
      " . Profiles cleaned 7 7\n"
     ]
    },
    {
     "name": "stderr",
     "output_type": "stream",
     "text": [
      "\n"
     ]
    },
    {
     "name": "stdout",
     "output_type": "stream",
     "text": [
      "Finished. Time elapsed: 0.758 minutes.\n"
     ]
    }
   ],
   "source": [
    "\n",
    "config = galprime.load_config_file('../newconfig.galprime')\n",
    "config[\"CORES\"] = 2\n",
    "# galprime.print_config(config)\n",
    "# sys.exit()\n",
    "\n",
    "# Load in backgrounds and psfs\n",
    "bgs = galprime.cutouts_from_file(\"../cutouts.fits\")\n",
    "psfs = galprime.cutouts_from_file('../i_psfs.fits')\n",
    "\n",
    "# TODO change this to the actual COSMOS mag table once I have it available to me\n",
    "\n",
    "cosmos_table = Table.read(\"../COSMOS_V9_MAGS.fits\", format=\"fits\")\n",
    "\n",
    "mags = cosmos_table[\"i\"][cosmos_table[\"i\"] > 0]\n",
    "\n",
    "mag_kde = galprime.gaussian_kde(mags)\n",
    "\n",
    "gp = galprime.GPrime(config='../newconfig.galprime', backgrounds=bgs, mag_kde=mag_kde, psfs=psfs)\n",
    "\n",
    "\n",
    "# test_container.save_outputs(filename=\"GPrime_\" + str(test_container.metadata[\"ID\"]) + \".fits\")\n",
    "\n",
    "container_list = gp.pipeline(max_bins=1, debug=True, process_method=galprime.gprime_single, progress_bar=True)\n",
    "\n"
   ]
  },
  {
   "cell_type": "code",
   "execution_count": null,
   "metadata": {},
   "outputs": [],
   "source": [
    "import dask\n",
    "from dask.distributed import Client, LocalCluster, Worker\n",
    "from dask_jobqueue import SLURMCluster"
   ]
  },
  {
   "cell_type": "code",
   "execution_count": null,
   "metadata": {},
   "outputs": [
    {
     "name": "stdout",
     "output_type": "stream",
     "text": [
      "15.0\n"
     ]
    }
   ],
   "source": [
    "print(config[\"TIME_LIMIT\"])"
   ]
  },
  {
   "cell_type": "code",
   "execution_count": null,
   "metadata": {},
   "outputs": [],
   "source": [
    "\n",
    "cluster = LocalCluster(n_workers=config[\"CORES\"], \n",
    "                       threads_per_worker=1, \n",
    "                       lifetime=str(config[\"TIME_LIMIT\"]) + \"s\")\n",
    "client = Client(cluster)\n",
    "\n"
   ]
  },
  {
   "cell_type": "code",
   "execution_count": null,
   "metadata": {},
   "outputs": [],
   "source": [
    "def load_and_process(filename):\n",
    "    container = galprime.load_pickle(filename)\n",
    "    return container.metadata\n",
    "    \n",
    "    # try:\n",
    "    #     container.process_object(plot=False)\n",
    "    #     print(\"Completed:\", filename)\n",
    "    # except Exception as error:\n",
    "    #     print(\"Failed:\", filename, error)\n",
    "    # return container\n",
    "\n",
    "A = client.map(load_and_process, container_list)"
   ]
  },
  {
   "cell_type": "code",
   "execution_count": null,
   "metadata": {},
   "outputs": [
    {
     "name": "stderr",
     "output_type": "stream",
     "text": [
      "distributed.active_memory_manager - WARNING - Tried retiring worker tcp://127.0.0.1:63329, but 10 tasks could not be moved as there are no suitable workers to receive them. The worker will not be retired.\n",
      "tornado.application - ERROR - Exception in callback functools.partial(<bound method IOLoop._discard_future_result of <tornado.platform.asyncio.AsyncIOLoop object at 0x10e283400>>, <Task finished name='Task-6' coro=<Worker.handle_scheduler() done, defined at /Users/hsouch/opt/miniconda3/lib/python3.9/site-packages/distributed/worker.py:1401> exception=CommClosedError('in <TCP (closed) ConnectionPool.close_gracefully local=tcp://127.0.0.1:65478 remote=tcp://127.0.0.1:63247>: Stream is closed')>)\n",
      "Traceback (most recent call last):\n",
      "  File \"/Users/hsouch/opt/miniconda3/lib/python3.9/site-packages/distributed/comm/tcp.py\", line 211, in read\n",
      "    frames_nbytes = await stream.read_bytes(fmt_size)\n",
      "tornado.iostream.StreamClosedError: Stream is closed\n",
      "\n",
      "The above exception was the direct cause of the following exception:\n",
      "\n",
      "Traceback (most recent call last):\n",
      "  File \"/Users/hsouch/opt/miniconda3/lib/python3.9/site-packages/tornado/ioloop.py\", line 740, in _run_callback\n",
      "    ret = callback()\n",
      "  File \"/Users/hsouch/opt/miniconda3/lib/python3.9/site-packages/tornado/ioloop.py\", line 764, in _discard_future_result\n",
      "    future.result()\n",
      "  File \"/Users/hsouch/opt/miniconda3/lib/python3.9/site-packages/distributed/worker.py\", line 1414, in handle_scheduler\n",
      "    await self.close(report=False)\n",
      "  File \"/Users/hsouch/opt/miniconda3/lib/python3.9/site-packages/distributed/worker.py\", line 1644, in close\n",
      "    await r.close_gracefully()\n",
      "  File \"/Users/hsouch/opt/miniconda3/lib/python3.9/site-packages/distributed/core.py\", line 922, in send_recv_from_rpc\n",
      "    return await send_recv(comm=comm, op=key, **kwargs)\n",
      "  File \"/Users/hsouch/opt/miniconda3/lib/python3.9/site-packages/distributed/core.py\", line 691, in send_recv\n",
      "    response = await comm.read(deserializers=deserializers)\n",
      "  File \"/Users/hsouch/opt/miniconda3/lib/python3.9/site-packages/distributed/comm/tcp.py\", line 227, in read\n",
      "    convert_stream_closed_error(self, e)\n",
      "  File \"/Users/hsouch/opt/miniconda3/lib/python3.9/site-packages/distributed/comm/tcp.py\", line 135, in convert_stream_closed_error\n",
      "    raise CommClosedError(f\"in {obj}: {exc}\") from exc\n",
      "distributed.comm.core.CommClosedError: in <TCP (closed) ConnectionPool.close_gracefully local=tcp://127.0.0.1:65478 remote=tcp://127.0.0.1:63247>: Stream is closed\n"
     ]
    }
   ],
   "source": [
    "\n",
    "cluster = LocalCluster(n_workers=config[\"CORES\"], \n",
    "                       threads_per_worker=1, \n",
    "                       lifetime=str(config[\"TIME_LIMIT\"]) + \"s\")\n",
    "client = Client(cluster)\n",
    "\n",
    "A = client.map(load_and_process, container_list)"
   ]
  },
  {
   "cell_type": "markdown",
   "metadata": {},
   "source": []
  },
  {
   "cell_type": "code",
   "execution_count": null,
   "metadata": {},
   "outputs": [],
   "source": []
  }
 ],
 "metadata": {
  "kernelspec": {
   "display_name": "Python 3.9.13 ('base')",
   "language": "python",
   "name": "python3"
  },
  "language_info": {
   "codemirror_mode": {
    "name": "ipython",
    "version": 3
   },
   "file_extension": ".py",
   "mimetype": "text/x-python",
   "name": "python",
   "nbconvert_exporter": "python",
   "pygments_lexer": "ipython3",
   "version": "3.9.13"
  },
  "orig_nbformat": 4,
  "vscode": {
   "interpreter": {
    "hash": "160788ad83ce082766b9a7010e5506f142822dcb04bbf0df3a9bc04666b19c5b"
   }
  }
 },
 "nbformat": 4,
 "nbformat_minor": 2
}
