{
 "cells": [
  {
   "cell_type": "code",
   "execution_count": 1,
   "metadata": {},
   "outputs": [
    {
     "data": {
      "text/plain": [
       "<module 'galprime' from '/Users/hsouch/Dropbox/GalPrime Work/GalPRIME/galprime/__init__.py'>"
      ]
     },
     "execution_count": 1,
     "metadata": {},
     "output_type": "execute_result"
    }
   ],
   "source": [
    "import galprime\n",
    "import sys\n",
    "import os\n",
    "from astropy.io import fits\n",
    "from astropy.table import Table\n",
    "from numpy.random import normal\n",
    "import numpy as np\n",
    "\n",
    "from scipy.interpolate import interp1d\n",
    "\n",
    "from tqdm import tqdm\n",
    "from matplotlib import pyplot as plt\n",
    "\n",
    "import importlib\n",
    "importlib.reload(galprime)"
   ]
  },
  {
   "cell_type": "code",
   "execution_count": 2,
   "metadata": {},
   "outputs": [
    {
     "name": "stdout",
     "output_type": "stream",
     "text": [
      "Running GalPRIME, version 2.0.2\n",
      "12 in total. Running GalPRIME on 10\n",
      "Generating 50 models for bin: [ 9.6 10.   0.1  0.3  0.   0.5]\n"
     ]
    },
    {
     "name": "stderr",
     "output_type": "stream",
     "text": [
      "50it [00:00, 68023.09it/s]\n"
     ]
    },
    {
     "name": "stdout",
     "output_type": "stream",
     "text": [
      "('Task timeout', 15.0) 13\n",
      "('Task timeout', 15.0) 15\n",
      "('All boxes contain > 1587.6000000000001 (90 percent per box) masked pixels (or all are completely masked). Please check your data or increase \"exclude_percentile\" to allow more boxes to be included.',) 17\n",
      "('Task timeout', 15.0) 22\n",
      "('Task timeout', 15.0) 26\n",
      "('Task timeout', 15.0) 33\n",
      "('Task timeout', 15.0) 40\n",
      "('Task timeout', 15.0) 42\n",
      "('Task timeout', 15.0) 43\n",
      "('All boxes contain > 1587.6000000000001 (90 percent per box) masked pixels (or all are completely masked). Please check your data or increase \"exclude_percentile\" to allow more boxes to be included.',) 45\n",
      "('Task timeout', 15.0) 47\n",
      "Profiles cleaned 39 38\n",
      "Generating 50 models for bin: [ 9.6 10.   0.3  0.5  0.   0.5]\n"
     ]
    },
    {
     "name": "stderr",
     "output_type": "stream",
     "text": [
      "50it [00:00, 53132.81it/s]\n"
     ]
    },
    {
     "name": "stdout",
     "output_type": "stream",
     "text": [
      "('All boxes contain > 1587.6000000000001 (90 percent per box) masked pixels (or all are completely masked). Please check your data or increase \"exclude_percentile\" to allow more boxes to be included.',) 0\n",
      "('Task timeout', 15.0) 5\n",
      "('Task timeout', 15.0) 8\n",
      "('Task timeout', 15.0) 9\n",
      "('Task timeout', 15.0) 23\n",
      "('Task timeout', 15.0) 25\n",
      "('Task timeout', 15.0) 27\n",
      "('Task timeout', 15.0) 40\n",
      "('Task timeout', 15.0) 41\n",
      "('Task timeout', 15.0) 42\n",
      "('Task timeout', 15.0) 45\n",
      "('Task timeout', 15.0) 47\n",
      "Profiles cleaned 38 38\n",
      "Generating 50 models for bin: [ 9.6 10.   0.5  0.7  0.   0.5]\n"
     ]
    },
    {
     "name": "stderr",
     "output_type": "stream",
     "text": [
      "50it [00:00, 83319.51it/s]\n"
     ]
    },
    {
     "name": "stdout",
     "output_type": "stream",
     "text": [
      "('Task timeout', 15.0) 0\n",
      "('All boxes contain > 1587.6000000000001 (90 percent per box) masked pixels (or all are completely masked). Please check your data or increase \"exclude_percentile\" to allow more boxes to be included.',) 2\n",
      "('Task timeout', 15.0) 15\n",
      "('Task timeout', 15.0) 17\n",
      "('All boxes contain > 1587.6000000000001 (90 percent per box) masked pixels (or all are completely masked). Please check your data or increase \"exclude_percentile\" to allow more boxes to be included.',) 18\n",
      "('Task timeout', 15.0) 21\n",
      "('All boxes contain > 1587.6000000000001 (90 percent per box) masked pixels (or all are completely masked). Please check your data or increase \"exclude_percentile\" to allow more boxes to be included.',) 37\n",
      "('Task timeout', 15.0) 40\n",
      "('Task timeout', 15.0) 46\n",
      "Profiles cleaned 41 40\n",
      "Generating 50 models for bin: [10.  10.4  0.1  0.3  0.   0.5]\n"
     ]
    },
    {
     "name": "stderr",
     "output_type": "stream",
     "text": [
      "50it [00:00, 62732.64it/s]\n"
     ]
    },
    {
     "name": "stdout",
     "output_type": "stream",
     "text": [
      "('Task timeout', 15.0) 5\n",
      "('Task timeout', 15.0) 17\n",
      "('Task timeout', 15.0) 22\n",
      "('Task timeout', 15.0) 31\n",
      "('Task timeout', 15.0) 39\n",
      "('Task timeout', 15.0) 44\n",
      "('Task timeout', 15.0) 49\n",
      "Profiles cleaned 43 43\n",
      "Generating 50 models for bin: [10.  10.4  0.3  0.5  0.   0.5]\n"
     ]
    },
    {
     "name": "stderr",
     "output_type": "stream",
     "text": [
      "50it [00:00, 59730.90it/s]\n"
     ]
    },
    {
     "name": "stdout",
     "output_type": "stream",
     "text": [
      "('Task timeout', 15.0) 1\n",
      "('Task timeout', 15.0) 14\n",
      "('Task timeout', 15.0) 17\n",
      "('Task timeout', 15.0) 18\n",
      "('All boxes contain > 1587.6000000000001 (90 percent per box) masked pixels (or all are completely masked). Please check your data or increase \"exclude_percentile\" to allow more boxes to be included.',) 23\n",
      "('Task timeout', 15.0) 27\n",
      "('All boxes contain > 1587.6000000000001 (90 percent per box) masked pixels (or all are completely masked). Please check your data or increase \"exclude_percentile\" to allow more boxes to be included.',) 32\n",
      "('Task timeout', 15.0) 47\n",
      "Profiles cleaned 42 42\n",
      "Generating 50 models for bin: [10.  10.4  0.5  0.7  0.   0.5]\n"
     ]
    },
    {
     "name": "stderr",
     "output_type": "stream",
     "text": [
      "50it [00:00, 57598.24it/s]\n"
     ]
    },
    {
     "name": "stdout",
     "output_type": "stream",
     "text": [
      "('All boxes contain > 1587.6000000000001 (90 percent per box) masked pixels (or all are completely masked). Please check your data or increase \"exclude_percentile\" to allow more boxes to be included.',) 0\n",
      "('Task timeout', 15.0) 2\n",
      "('Task timeout', 15.0) 3\n",
      "('Task timeout', 15.0) 10\n",
      "('Task timeout', 15.0) 15\n",
      "('Task timeout', 15.0) 17\n",
      "('Task timeout', 15.0) 26\n",
      "('Task timeout', 15.0) 28\n",
      "('Task timeout', 15.0) 30\n",
      "('Task timeout', 15.0) 44\n",
      "('All boxes contain > 1587.6000000000001 (90 percent per box) masked pixels (or all are completely masked). Please check your data or increase \"exclude_percentile\" to allow more boxes to be included.',) 47\n",
      "Profiles cleaned 39 39\n",
      "Generating 50 models for bin: [10.4 10.8  0.1  0.3  0.   0.5]\n"
     ]
    },
    {
     "name": "stderr",
     "output_type": "stream",
     "text": [
      "50it [00:00, 66576.25it/s]\n"
     ]
    },
    {
     "name": "stdout",
     "output_type": "stream",
     "text": [
      "('Task timeout', 15.0) 15\n",
      "('All boxes contain > 1587.6000000000001 (90 percent per box) masked pixels (or all are completely masked). Please check your data or increase \"exclude_percentile\" to allow more boxes to be included.',) 29\n",
      "('Task timeout', 15.0) 31\n",
      "('Task timeout', 15.0) 42\n",
      "Profiles cleaned 46 46\n",
      "Generating 50 models for bin: [10.4 10.8  0.3  0.5  0.   0.5]\n"
     ]
    },
    {
     "name": "stderr",
     "output_type": "stream",
     "text": [
      "50it [00:00, 171196.08it/s]\n"
     ]
    },
    {
     "name": "stdout",
     "output_type": "stream",
     "text": [
      "('All boxes contain > 1587.6000000000001 (90 percent per box) masked pixels (or all are completely masked). Please check your data or increase \"exclude_percentile\" to allow more boxes to be included.',) 5\n",
      "('Task timeout', 15.0) 13\n",
      "('Task timeout', 15.0) 17\n",
      "('Task timeout', 15.0) 25\n",
      "('Task timeout', 15.0) 29\n",
      "('Task timeout', 15.0) 32\n",
      "('Task timeout', 15.0) 33\n",
      "Profiles cleaned 43 42\n",
      "Generating 50 models for bin: [10.4 10.8  0.5  0.7  0.   0.5]\n"
     ]
    },
    {
     "name": "stderr",
     "output_type": "stream",
     "text": [
      "50it [00:00, 54189.97it/s]\n"
     ]
    },
    {
     "name": "stdout",
     "output_type": "stream",
     "text": [
      "('All boxes contain > 1587.6000000000001 (90 percent per box) masked pixels (or all are completely masked). Please check your data or increase \"exclude_percentile\" to allow more boxes to be included.',) 7\n",
      "('Task timeout', 15.0) 14\n",
      "('Task timeout', 15.0) 21\n",
      "('Task timeout', 15.0) 42\n",
      "('Task timeout', 15.0) 43\n",
      "('Task timeout', 15.0) 46\n",
      "('Task timeout', 15.0) 47\n",
      "Profiles cleaned 43 43\n",
      "Generating 50 models for bin: [10.8 11.2  0.1  0.3  0.   0.5]\n"
     ]
    },
    {
     "name": "stderr",
     "output_type": "stream",
     "text": [
      "50it [00:00, 184446.09it/s]\n"
     ]
    },
    {
     "name": "stdout",
     "output_type": "stream",
     "text": [
      "Profiles cleaned 50 50\n"
     ]
    }
   ],
   "source": [
    "\n",
    "config = galprime.load_config_file('../newconfig.galprime')\n",
    "\n",
    "# galprime.print_config(config)\n",
    "# sys.exit()\n",
    "\n",
    "# Load in backgrounds and psfs\n",
    "bgs = galprime.cutouts_from_file(\"../cutouts.fits\")\n",
    "psfs = galprime.cutouts_from_file('../i_psfs.fits')\n",
    "\n",
    "# TODO change this to the actual COSMOS mag table once I have it available to me\n",
    "\n",
    "cosmos_table = Table.read(\"../COSMOS_V9_CLEAN.fits\", format=\"fits\")\n",
    "\n",
    "mags = cosmos_table[\"i\"][cosmos_table[\"i\"] > 0]\n",
    "\n",
    "mag_kde = galprime.gaussian_kde(mags)\n",
    "\n",
    "gp = galprime.GPrime(config='../newconfig.galprime', backgrounds=bgs, mag_kde=mag_kde, psfs=psfs)\n",
    "\n",
    "# test_container.save_outputs(filename=\"GPrime_\" + str(test_container.metadata[\"ID\"]) + \".fits\")\n",
    "\n",
    "test_container = gp.pipeline(max_bins=2, debug=True, process_method=galprime.gprime_single)\n",
    "\n"
   ]
  },
  {
   "cell_type": "code",
   "execution_count": 149,
   "metadata": {},
   "outputs": [
    {
     "ename": "AttributeError",
     "evalue": "module 'galprime' has no attribute 'boostrap_median'",
     "output_type": "error",
     "traceback": [
      "\u001b[0;31m---------------------------------------------------------------------------\u001b[0m",
      "\u001b[0;31mAttributeError\u001b[0m                            Traceback (most recent call last)",
      "Cell \u001b[0;32mIn [149], line 3\u001b[0m\n\u001b[1;32m      1\u001b[0m table_list \u001b[38;5;241m=\u001b[39m [galprime\u001b[38;5;241m.\u001b[39mtable_from_isolist(container\u001b[38;5;241m.\u001b[39mmodel_profile) \u001b[38;5;28;01mfor\u001b[39;00m container \u001b[38;5;129;01min\u001b[39;00m test_container]\n\u001b[0;32m----> 3\u001b[0m out_t \u001b[38;5;241m=\u001b[39m \u001b[43mgalprime\u001b[49m\u001b[38;5;241;43m.\u001b[39;49m\u001b[43mboostrap_median\u001b[49m(table_list, plot_dir\u001b[38;5;241m=\u001b[39m\u001b[38;5;28;01mNone\u001b[39;00m, iterations\u001b[38;5;241m=\u001b[39m\u001b[38;5;241m100\u001b[39m, plot_prefix\u001b[38;5;241m=\u001b[39m\u001b[38;5;124m\"\u001b[39m\u001b[38;5;124mbin_10.2-10.4\u001b[39m\u001b[38;5;124m\"\u001b[39m, progress_bar\u001b[38;5;241m=\u001b[39m\u001b[38;5;28;01mTrue\u001b[39;00m)\n",
      "\u001b[0;31mAttributeError\u001b[0m: module 'galprime' has no attribute 'boostrap_median'"
     ]
    }
   ],
   "source": [
    "table_list = [galprime.table_from_isolist(container.model_profile) for container in test_container]\n",
    "\n",
    "out_t = galprime.boostrap_median(table_list, plot_dir=None, iterations=100, plot_prefix=\"bin_10.2-10.4\", progress_bar=True)"
   ]
  },
  {
   "cell_type": "code",
   "execution_count": 4,
   "metadata": {},
   "outputs": [],
   "source": [
    "index_prefix = \"0-0-0_\"\n",
    "bare_median_dir = \"out_sim/bare_medians/\"\n",
    "bgadded_median_dir = \"out_sim/bgadded_medians/\"\n",
    "bgsub_median_dir = \"out_sim/bgsub_medians/\"\n",
    "\n",
    "bare_profiles = [galprime.table_from_isolist(container.model_profile) for container in test_container]\n",
    "bare_median_table = galprime.boostrap_median(bare_profiles)\n",
    "bare_median_table.write(bare_median_dir + index_prefix + \"medians.fits\", overwrite=True)\n",
    "\n",
    "bgadded_profiles = [galprime.table_from_isolist(container.bgadded_profile) for container in test_container]\n",
    "bgadded_median_table = galprime.boostrap_median(bgadded_profiles)\n",
    "bgadded_median_table.write(bgadded_median_dir + index_prefix + \"medians.fits\", overwrite=True)\n",
    "\n",
    "bgsub_profiles = [galprime.table_from_isolist(container.bgsub_profile) for container in test_container]\n",
    "bgsub_median_table = galprime.boostrap_median(bgsub_profiles)\n",
    "bgsub_median_table.write(bgsub_median_dir + index_prefix + \"medians.fits\", overwrite=True)"
   ]
  }
 ],
 "metadata": {
  "kernelspec": {
   "display_name": "Python 3.9.13 ('base')",
   "language": "python",
   "name": "python3"
  },
  "language_info": {
   "codemirror_mode": {
    "name": "ipython",
    "version": 3
   },
   "file_extension": ".py",
   "mimetype": "text/x-python",
   "name": "python",
   "nbconvert_exporter": "python",
   "pygments_lexer": "ipython3",
   "version": "3.9.13"
  },
  "orig_nbformat": 4,
  "vscode": {
   "interpreter": {
    "hash": "160788ad83ce082766b9a7010e5506f142822dcb04bbf0df3a9bc04666b19c5b"
   }
  }
 },
 "nbformat": 4,
 "nbformat_minor": 2
}
